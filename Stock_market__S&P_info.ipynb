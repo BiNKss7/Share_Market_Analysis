{
 "cells": [
  {
   "cell_type": "code",
   "id": "44d8f5e25851cee5",
   "metadata": {
    "ExecuteTime": {
     "end_time": "2024-09-23T22:21:12.785187Z",
     "start_time": "2024-09-23T22:21:12.723699Z"
    }
   },
   "source": [
    "#A program that takes a look at stock market over the last 10 years and predicts future rates as well as predicts how much you'd have earned if you had bought the S&P now in any part of the last 10 years\n",
    "\n",
    "import pandas as pd\n",
    "import numpy as np \n",
    "import matplotlib.pyplot as plt\n",
    "import plotly.graph_objects as go\n",
    "from plotly.subplots import make_subplots\n",
    "import requests"
   ],
   "outputs": [],
   "execution_count": 2
  },
  {
   "cell_type": "code",
   "id": "c4fd383d51360f9a",
   "metadata": {
    "ExecuteTime": {
     "end_time": "2024-09-23T22:21:12.955262Z",
     "start_time": "2024-09-23T22:21:12.922717Z"
    }
   },
   "source": [
    "stock_prices= pd.read_csv('C:\\\\Users\\\\sonam\\\\Downloads\\\\HistoricalData_1726504985107.csv', index_col= 'Date', parse_dates= True, na_values= '0')"
   ],
   "outputs": [],
   "execution_count": 3
  },
  {
   "cell_type": "code",
   "id": "e4f12767d1d052ab",
   "metadata": {
    "ExecuteTime": {
     "end_time": "2024-09-23T22:21:13.135128Z",
     "start_time": "2024-09-23T22:21:13.125023Z"
    }
   },
   "source": "stock_prices.head()",
   "outputs": [
    {
     "data": {
      "text/plain": [
       "            Close/Last     Open     High      Low\n",
       "Date                                             \n",
       "2024-09-13     5626.02  5603.34  5636.27  5601.65\n",
       "2024-09-12     5595.76  5557.48  5600.71  5535.50\n",
       "2024-09-11     5554.13  5496.42  5560.41  5406.96\n",
       "2024-09-10     5495.52  5490.51  5497.91  5441.72\n",
       "2024-09-09     5471.05  5442.07  5484.20  5434.49"
      ],
      "text/html": [
       "<div>\n",
       "<style scoped>\n",
       "    .dataframe tbody tr th:only-of-type {\n",
       "        vertical-align: middle;\n",
       "    }\n",
       "\n",
       "    .dataframe tbody tr th {\n",
       "        vertical-align: top;\n",
       "    }\n",
       "\n",
       "    .dataframe thead th {\n",
       "        text-align: right;\n",
       "    }\n",
       "</style>\n",
       "<table border=\"1\" class=\"dataframe\">\n",
       "  <thead>\n",
       "    <tr style=\"text-align: right;\">\n",
       "      <th></th>\n",
       "      <th>Close/Last</th>\n",
       "      <th>Open</th>\n",
       "      <th>High</th>\n",
       "      <th>Low</th>\n",
       "    </tr>\n",
       "    <tr>\n",
       "      <th>Date</th>\n",
       "      <th></th>\n",
       "      <th></th>\n",
       "      <th></th>\n",
       "      <th></th>\n",
       "    </tr>\n",
       "  </thead>\n",
       "  <tbody>\n",
       "    <tr>\n",
       "      <th>2024-09-13</th>\n",
       "      <td>5626.02</td>\n",
       "      <td>5603.34</td>\n",
       "      <td>5636.27</td>\n",
       "      <td>5601.65</td>\n",
       "    </tr>\n",
       "    <tr>\n",
       "      <th>2024-09-12</th>\n",
       "      <td>5595.76</td>\n",
       "      <td>5557.48</td>\n",
       "      <td>5600.71</td>\n",
       "      <td>5535.50</td>\n",
       "    </tr>\n",
       "    <tr>\n",
       "      <th>2024-09-11</th>\n",
       "      <td>5554.13</td>\n",
       "      <td>5496.42</td>\n",
       "      <td>5560.41</td>\n",
       "      <td>5406.96</td>\n",
       "    </tr>\n",
       "    <tr>\n",
       "      <th>2024-09-10</th>\n",
       "      <td>5495.52</td>\n",
       "      <td>5490.51</td>\n",
       "      <td>5497.91</td>\n",
       "      <td>5441.72</td>\n",
       "    </tr>\n",
       "    <tr>\n",
       "      <th>2024-09-09</th>\n",
       "      <td>5471.05</td>\n",
       "      <td>5442.07</td>\n",
       "      <td>5484.20</td>\n",
       "      <td>5434.49</td>\n",
       "    </tr>\n",
       "  </tbody>\n",
       "</table>\n",
       "</div>"
      ]
     },
     "execution_count": 4,
     "metadata": {},
     "output_type": "execute_result"
    }
   ],
   "execution_count": 4
  },
  {
   "cell_type": "code",
   "id": "8ba2775ffd2a5332",
   "metadata": {
    "ExecuteTime": {
     "end_time": "2024-09-23T22:21:13.365767Z",
     "start_time": "2024-09-23T22:21:13.357969Z"
    }
   },
   "source": [
    "#Creating each \n",
    "closing = stock_prices[['Close/Last']]\n",
    "date= stock_prices.index\n",
    "high = stock_prices[['High']]\n",
    "low = stock_prices[['Low']]\n",
    "closing"
   ],
   "outputs": [
    {
     "data": {
      "text/plain": [
       "            Close/Last\n",
       "Date                  \n",
       "2024-09-13     5626.02\n",
       "2024-09-12     5595.76\n",
       "2024-09-11     5554.13\n",
       "2024-09-10     5495.52\n",
       "2024-09-09     5471.05\n",
       "...                ...\n",
       "2014-09-22     1994.29\n",
       "2014-09-19     2010.40\n",
       "2014-09-18     2011.36\n",
       "2014-09-17     2001.57\n",
       "2014-09-16     1998.98\n",
       "\n",
       "[2527 rows x 1 columns]"
      ],
      "text/html": [
       "<div>\n",
       "<style scoped>\n",
       "    .dataframe tbody tr th:only-of-type {\n",
       "        vertical-align: middle;\n",
       "    }\n",
       "\n",
       "    .dataframe tbody tr th {\n",
       "        vertical-align: top;\n",
       "    }\n",
       "\n",
       "    .dataframe thead th {\n",
       "        text-align: right;\n",
       "    }\n",
       "</style>\n",
       "<table border=\"1\" class=\"dataframe\">\n",
       "  <thead>\n",
       "    <tr style=\"text-align: right;\">\n",
       "      <th></th>\n",
       "      <th>Close/Last</th>\n",
       "    </tr>\n",
       "    <tr>\n",
       "      <th>Date</th>\n",
       "      <th></th>\n",
       "    </tr>\n",
       "  </thead>\n",
       "  <tbody>\n",
       "    <tr>\n",
       "      <th>2024-09-13</th>\n",
       "      <td>5626.02</td>\n",
       "    </tr>\n",
       "    <tr>\n",
       "      <th>2024-09-12</th>\n",
       "      <td>5595.76</td>\n",
       "    </tr>\n",
       "    <tr>\n",
       "      <th>2024-09-11</th>\n",
       "      <td>5554.13</td>\n",
       "    </tr>\n",
       "    <tr>\n",
       "      <th>2024-09-10</th>\n",
       "      <td>5495.52</td>\n",
       "    </tr>\n",
       "    <tr>\n",
       "      <th>2024-09-09</th>\n",
       "      <td>5471.05</td>\n",
       "    </tr>\n",
       "    <tr>\n",
       "      <th>...</th>\n",
       "      <td>...</td>\n",
       "    </tr>\n",
       "    <tr>\n",
       "      <th>2014-09-22</th>\n",
       "      <td>1994.29</td>\n",
       "    </tr>\n",
       "    <tr>\n",
       "      <th>2014-09-19</th>\n",
       "      <td>2010.40</td>\n",
       "    </tr>\n",
       "    <tr>\n",
       "      <th>2014-09-18</th>\n",
       "      <td>2011.36</td>\n",
       "    </tr>\n",
       "    <tr>\n",
       "      <th>2014-09-17</th>\n",
       "      <td>2001.57</td>\n",
       "    </tr>\n",
       "    <tr>\n",
       "      <th>2014-09-16</th>\n",
       "      <td>1998.98</td>\n",
       "    </tr>\n",
       "  </tbody>\n",
       "</table>\n",
       "<p>2527 rows × 1 columns</p>\n",
       "</div>"
      ]
     },
     "execution_count": 5,
     "metadata": {},
     "output_type": "execute_result"
    }
   ],
   "execution_count": 5
  },
  {
   "cell_type": "code",
   "id": "3049abed2432c077",
   "metadata": {
    "ExecuteTime": {
     "end_time": "2024-09-23T22:21:13.519916Z",
     "start_time": "2024-09-23T22:21:13.506744Z"
    }
   },
   "source": [
    "stock_prices['Open']= stock_prices['Open'].ffill()\n",
    "need_closing = stock_prices['Open'].sort_index().loc['12/31/2014':'12/31/2016']"
   ],
   "outputs": [],
   "execution_count": 6
  },
  {
   "cell_type": "code",
   "id": "d73ef58b0ceec5f6",
   "metadata": {
    "ExecuteTime": {
     "end_time": "2024-09-23T22:21:13.961654Z",
     "start_time": "2024-09-23T22:21:13.649253Z"
    }
   },
   "source": [
    "plt.figure(figsize= (10, 6))\n",
    "plt.plot(need_closing, color = \"blue\")\n",
    "plt.plot(high, color = \"red\")\n",
    "plt.plot(low, color = \"green\")"
   ],
   "outputs": [
    {
     "data": {
      "text/plain": [
       "[<matplotlib.lines.Line2D at 0x1835e183620>]"
      ]
     },
     "execution_count": 7,
     "metadata": {},
     "output_type": "execute_result"
    },
    {
     "data": {
      "text/plain": [
       "<Figure size 1000x600 with 1 Axes>"
      ],
      "image/png": "[encoded data removed]"
     },
     "metadata": {},
     "output_type": "display_data"
    }
   ],
   "execution_count": 7
  },
  {
   "cell_type": "markdown",
   "id": "7cfcd9fb5115aa3c",
   "metadata": {},
   "source": [
    "\n",
    "## Checking all the abnormal change in the market and looking at their reason:"
   ]
  },
  {
   "cell_type": "code",
   "id": "5d56776d194c6c58",
   "metadata": {
    "ExecuteTime": {
     "end_time": "2024-09-23T22:21:13.970575Z",
     "start_time": "2024-09-23T22:21:13.965647Z"
    }
   },
   "source": [
    "pct_change = closing.pct_change(-1).dropna()\n",
    "#Computes the percentage change between two values and dropna is required to remove values that may not have previous value to create a percentage change from i.e first and last data. (-1) for the pct_change to be in descending order"
   ],
   "outputs": [],
   "execution_count": 8
  },
  {
   "cell_type": "code",
   "id": "3882053a39652f11",
   "metadata": {
    "ExecuteTime": {
     "end_time": "2024-09-23T22:21:14.171345Z",
     "start_time": "2024-09-23T22:21:14.164904Z"
    }
   },
   "source": [
    "normalized_data = (pct_change - pct_change.mean()) / pct_change.std()\n",
    "abnormal_dips_score = pct_change.min(axis=1)"
   ],
   "outputs": [],
   "execution_count": 9
  },
  {
   "cell_type": "code",
   "id": "3e1cb02cf6ac9073",
   "metadata": {
    "ExecuteTime": {
     "end_time": "2024-09-23T22:21:14.317195Z",
     "start_time": "2024-09-23T22:21:14.313271Z"
    }
   },
   "source": [
    "threshold = abnormal_dips_score.mean() - 3.5 * abnormal_dips_score.std()\n",
    "#Defining threshold to classify what values are abnormal"
   ],
   "outputs": [],
   "execution_count": 10
  },
  {
   "cell_type": "code",
   "id": "1ad0cbae06887b5a",
   "metadata": {
    "ExecuteTime": {
     "end_time": "2024-09-23T22:21:14.499226Z",
     "start_time": "2024-09-23T22:21:14.494497Z"
    }
   },
   "source": [
    "#Creating DataFrame containing the dates and abnormal values\n",
    "abnormal_dips = abnormal_dips_score[abnormal_dips_score < threshold].abs()\n",
    "abnormal_dips= pd.DataFrame(abnormal_dips, columns=['a'])"
   ],
   "outputs": [],
   "execution_count": 11
  },
  {
   "cell_type": "code",
   "id": "737b2d5f18a4cb6f",
   "metadata": {
    "ExecuteTime": {
     "end_time": "2024-09-23T22:21:14.714720Z",
     "start_time": "2024-09-23T22:21:14.710638Z"
    }
   },
   "source": [
    "#Creating variables for easier plotting\n",
    "abnormal_dates = abnormal_dips.index\n",
    "abnormal_values = abnormal_dips['a']"
   ],
   "outputs": [],
   "execution_count": 12
  },
  {
   "cell_type": "code",
   "id": "37f4c963dab6079",
   "metadata": {
    "ExecuteTime": {
     "end_time": "2024-09-23T22:21:14.894013Z",
     "start_time": "2024-09-23T22:21:14.888571Z"
    }
   },
   "source": [
    "#Loking at the dates with the highest dips in 10 years\n",
    "stacked_data= closing.loc[abnormal_dates]\n",
    "print(stacked_data)"
   ],
   "outputs": [
    {
     "name": "stdout",
     "output_type": "stream",
     "text": [
      "            Close/Last\n",
      "Date                  \n",
      "2022-09-13     3932.69\n",
      "2022-05-18     3923.68\n",
      "2020-06-11     3002.10\n",
      "2020-04-01     2470.50\n",
      "2020-03-20     2304.92\n",
      "2020-03-18     2398.10\n",
      "2020-03-16     2386.13\n",
      "2020-03-12     2480.64\n",
      "2020-03-11     2741.38\n",
      "2020-03-09     2746.56\n",
      "2020-02-27     2978.76\n",
      "2018-02-05     2648.94\n",
      "2015-08-24     1893.21\n"
     ]
    }
   ],
   "execution_count": 13
  },
  {
   "metadata": {},
   "cell_type": "markdown",
   "source": "## Plotting the Stock Prices marked by every Abnormal Dips",
   "id": "88fe1005d2e98cd"
  },
  {
   "cell_type": "code",
   "id": "b992daeeff635c13",
   "metadata": {
    "ExecuteTime": {
     "end_time": "2024-09-23T22:21:15.437818Z",
     "start_time": "2024-09-23T22:21:15.217869Z"
    }
   },
   "source": [
    "#Plotting the original data with the dips marked\n",
    "plt.figure(figsize=(14, 10))\n",
    "plt.plot(closing.index, closing.values, label='Closing Price', color='blue')\n",
    "plt.scatter(stacked_data.index,stacked_data.values, color='red', marker='|', label= 'Abnormal Dips', s=3000)\n",
    "plt.legend(scatterpoints=1, markerscale=0.3)\n",
    "\n",
    "# Adding labels and title\n",
    "plt.title('Stock Prices with Abnormal Dips')\n",
    "plt.xlabel('Date')\n",
    "plt.ylabel('Closing Price')\n",
    "plt.show()\n"
   ],
   "outputs": [
    {
     "data": {
      "text/plain": [
       "<Figure size 1400x1000 with 1 Axes>"
      ],
      "image/png": "[encoded data removed]"
     },
     "metadata": {},
     "output_type": "display_data"
    }
   ],
   "execution_count": 14
  },
  {
   "metadata": {},
   "cell_type": "markdown",
   "source": "## Taking every abnormal dips and studying it",
   "id": "7b5dc1d0f42eb480"
  },
  {
   "metadata": {},
   "cell_type": "markdown",
   "source": "### August 24th 2015",
   "id": "be382562adeea8cd"
  },
  {
   "metadata": {
    "ExecuteTime": {
     "end_time": "2024-09-23T23:06:25.859079Z",
     "start_time": "2024-09-23T23:06:25.852213Z"
    }
   },
   "cell_type": "code",
   "source": [
    "sorted_stock = stock_prices.sort_index()\n",
    "start_date = '2015-08-10'\n",
    "end_date = '2015-08-30'\n",
    "# Extract rows within the date range\n",
    "first_dip = sorted_stock.loc[start_date:end_date]"
   ],
   "id": "c87635ae9e08de3a",
   "outputs": [],
   "execution_count": 58
  },
  {
   "metadata": {},
   "cell_type": "markdown",
   "source": "### February 5th 2018",
   "id": "4e5e685ee4166551"
  },
  {
   "metadata": {
    "ExecuteTime": {
     "end_time": "2024-09-23T22:21:16.146681Z",
     "start_time": "2024-09-23T22:21:16.141733Z"
    }
   },
   "cell_type": "code",
   "source": [
    "start_date = '2018-01-25'\n",
    "end_date = '2018-02-25'\n",
    "# Extract rows within the date range\n",
    "second_dip = sorted_stock.loc[start_date:end_date]"
   ],
   "id": "7e207fcd60473342",
   "outputs": [],
   "execution_count": 16
  },
  {
   "metadata": {},
   "cell_type": "markdown",
   "source": "",
   "id": "bb3938bb2e179142"
  },
  {
   "metadata": {},
   "cell_type": "markdown",
   "source": "### February - June 2020",
   "id": "e2ab4c49c7c816cb"
  },
  {
   "metadata": {
    "ExecuteTime": {
     "end_time": "2024-09-23T22:21:16.902300Z",
     "start_time": "2024-09-23T22:21:16.898230Z"
    }
   },
   "cell_type": "code",
   "source": [
    "start_date = '2020-02-25'\n",
    "end_date = '2020-06-25'\n",
    "#Extract rows within the date range\n",
    "third_dip = sorted_stock.loc[start_date:end_date]"
   ],
   "id": "61a2bf98d515cd7a",
   "outputs": [],
   "execution_count": 17
  },
  {
   "metadata": {},
   "cell_type": "markdown",
   "source": "### May 18th 2022",
   "id": "6c41f95a8822da5e"
  },
  {
   "metadata": {
    "ExecuteTime": {
     "end_time": "2024-09-23T22:21:17.291375Z",
     "start_time": "2024-09-23T22:21:17.287743Z"
    }
   },
   "cell_type": "code",
   "source": [
    "start_date = '2022-05-10'\n",
    "end_date = '2022-05-30'\n",
    "#Extract rows within the date range\n",
    "fourth_dip = sorted_stock.loc[start_date:end_date]"
   ],
   "id": "f281f4eff69352f",
   "outputs": [],
   "execution_count": 18
  },
  {
   "metadata": {},
   "cell_type": "markdown",
   "source": "### September 13th 2022",
   "id": "2394f9f2237dd7a7"
  },
  {
   "metadata": {
    "ExecuteTime": {
     "end_time": "2024-09-23T23:06:34.169469Z",
     "start_time": "2024-09-23T23:06:34.164914Z"
    }
   },
   "cell_type": "code",
   "source": [
    "start_date = '2022-09-01'\n",
    "end_date = '2022-10-01'\n",
    "#Extract rows within the date range\n",
    "fifth_dip = sorted_stock.loc[start_date:end_date]"
   ],
   "id": "1a9ddbff093a9121",
   "outputs": [],
   "execution_count": 60
  },
  {
   "cell_type": "code",
   "id": "f8e18abb2911eb44",
   "metadata": {
    "ExecuteTime": {
     "end_time": "2024-09-23T23:51:16.515532Z",
     "start_time": "2024-09-23T23:51:16.475893Z"
    }
   },
   "source": [
    "dips = [\n",
    "    {\"data\": first_dip, \"row\": 3, \"col\": 1, \"title\": 'August 24th 2015'},\n",
    "    {\"data\": second_dip, \"row\": 3, \"col\": 2, \"title\": 'February 5th 2018'},\n",
    "    {\"data\": third_dip, \"row\": 2, \"col\": 1, \"title\": 'Feb - June 2020'},\n",
    "    {\"data\": fourth_dip, \"row\": 2, \"col\": 2, \"title\": 'May 18th 2022'},\n",
    "    {\"data\": fifth_dip, \"row\": 1, \"col\": 1, \"title\": 'September 13th 2022'}\n",
    "] #Created a Dictionary to make the coding smaller\n",
    "# Create the subplot figure\n",
    "fig = make_subplots(rows=3, cols=2, start_cell=\"bottom-left\")\n",
    "fig.update_layout(height=600, width=800, title_text='Abnormal Dips throughout Five-Year margin', showlegend=False, \n",
    "                  margin=dict(l=20, r=20, t=40, b=60), paper_bgcolor=\"Black\")\n",
    "fig.update_xaxes(rangeslider_visible=False)\n",
    "\n",
    "# Loop through each dip data and add the traces\n",
    "for dip in dips:\n",
    "    fig.add_trace(go.Candlestick(x=dip['data'].index,\n",
    "                                 open=dip['data']['Open'],\n",
    "                                 high=dip['data']['High'],\n",
    "                                 low=dip['data']['Low'], close=dip['data']['Close/Last']), row=dip['row'], col=dip['col'])\n",
    "# Show the figure\n",
    "fig.show()\n"
   ],
   "outputs": [
    {
     "data": {
      "application/vnd.plotly.v1+json": {
       "data": [
        {
         "close": [
          2104.18,
          2084.07,
          2086.05,
          2083.39,
          2091.54,
          2102.44,
          2096.92,
          2079.61,
          2035.73,
          1970.89,
          1893.21,
          1867.61,
          1940.51,
          1987.66,
          1988.87
         ],
         "high": [
          2105.35,
          2102.66,
          2089.06,
          2092.93,
          2092.45,
          2102.87,
          2103.47,
          2096.17,
          2076.61,
          2034.08,
          1965.15,
          1948.04,
          1943.09,
          1989.6,
          1993.48
         ],
         "low": [
          2080.98,
          2076.49,
          2052.09,
          2078.26,
          2080.61,
          2079.3,
          2094.14,
          2070.53,
          2035.73,
          1970.89,
          1867.01,
          1867.08,
          1872.75,
          1942.77,
          1975.19
         ],
         "open": [
          2080.98,
          2102.66,
          2081.1,
          2086.19,
          2083.15,
          2089.7,
          2101.99,
          2095.69,
          2076.61,
          2034.08,
          1965.15,
          1898.08,
          1872.75,
          1942.77,
          1986.06
         ],
         "x": [
          "2015-08-10T00:00:00",
          "2015-08-11T00:00:00",
          "2015-08-12T00:00:00",
          "2015-08-13T00:00:00",
          "2015-08-14T00:00:00",
          "2015-08-17T00:00:00",
          "2015-08-18T00:00:00",
          "2015-08-19T00:00:00",
          "2015-08-20T00:00:00",
          "2015-08-21T00:00:00",
          "2015-08-24T00:00:00",
          "2015-08-25T00:00:00",
          "2015-08-26T00:00:00",
          "2015-08-27T00:00:00",
          "2015-08-28T00:00:00"
         ],
         "type": "candlestick",
         "xaxis": "x5",
         "yaxis": "y5"
        },
        {
         "close": [
          2839.25,
          2872.87,
          2853.53,
          2822.43,
          2823.81,
          2821.98,
          2762.13,
          2648.94,
          2695.14,
          2681.66,
          2581.0,
          2619.55,
          2656.0,
          2662.94,
          2698.63,
          2731.2,
          2732.22,
          2716.26,
          2701.33,
          2703.96,
          2747.3
         ],
         "high": [
          2848.56,
          2872.87,
          2870.62,
          2837.75,
          2839.26,
          2835.96,
          2808.92,
          2763.39,
          2701.04,
          2727.67,
          2685.27,
          2638.67,
          2672.61,
          2668.84,
          2702.1,
          2731.51,
          2754.42,
          2737.6,
          2747.75,
          2731.26,
          2747.76
         ],
         "low": [
          2830.94,
          2846.18,
          2851.48,
          2818.27,
          2813.04,
          2812.7,
          2759.97,
          2638.17,
          2593.07,
          2681.33,
          2580.56,
          2532.69,
          2622.45,
          2637.08,
          2648.87,
          2689.82,
          2725.11,
          2706.76,
          2701.29,
          2697.77,
          2713.74
         ],
         "open": [
          2846.24,
          2847.48,
          2867.23,
          2832.74,
          2832.41,
          2816.45,
          2808.92,
          2741.06,
          2614.78,
          2690.95,
          2685.01,
          2601.78,
          2636.75,
          2646.27,
          2651.21,
          2713.46,
          2727.14,
          2722.99,
          2720.53,
          2710.42,
          2715.8
         ],
         "x": [
          "2018-01-25T00:00:00",
          "2018-01-26T00:00:00",
          "2018-01-29T00:00:00",
          "2018-01-30T00:00:00",
          "2018-01-31T00:00:00",
          "2018-02-01T00:00:00",
          "2018-02-02T00:00:00",
          "2018-02-05T00:00:00",
          "2018-02-06T00:00:00",
          "2018-02-07T00:00:00",
          "2018-02-08T00:00:00",
          "2018-02-09T00:00:00",
          "2018-02-12T00:00:00",
          "2018-02-13T00:00:00",
          "2018-02-14T00:00:00",
          "2018-02-15T00:00:00",
          "2018-02-16T00:00:00",
          "2018-02-20T00:00:00",
          "2018-02-21T00:00:00",
          "2018-02-22T00:00:00",
          "2018-02-23T00:00:00"
         ],
         "type": "candlestick",
         "xaxis": "x6",
         "yaxis": "y6"
        },
        {
         "close": [
          3128.21,
          3116.39,
          2978.76,
          2954.22,
          3090.23,
          3003.37,
          3130.12,
          3023.94,
          2972.37,
          2746.56,
          2882.23,
          2741.38,
          2480.64,
          2711.02,
          2386.13,
          2529.19,
          2398.1,
          2409.39,
          2304.92,
          2237.4,
          2447.33,
          2475.56,
          2630.07,
          2541.47,
          2626.65,
          2584.59,
          2470.5,
          2526.9,
          2488.65,
          2663.68,
          2659.41,
          2749.98,
          2789.82,
          2761.63,
          2846.06,
          2783.36,
          2799.55,
          2874.56,
          2823.16,
          2736.56,
          2799.31,
          2797.8,
          2836.74,
          2878.48,
          2863.39,
          2939.51,
          2912.43,
          2830.71,
          2842.74,
          2868.44,
          2848.42,
          2881.19,
          2929.8,
          2930.32,
          2870.12,
          2820.0,
          2852.5,
          2863.7,
          2953.91,
          2922.94,
          2971.61,
          2948.51,
          2955.45,
          2991.77,
          3036.13,
          3029.73,
          3044.31,
          3055.73,
          3080.82,
          3122.87,
          3112.35,
          3193.93,
          3232.39,
          3207.18,
          3190.14,
          3002.1,
          3041.31,
          3066.59,
          3124.74,
          3113.49,
          3115.34,
          3097.74,
          3117.86,
          3131.29,
          3050.33,
          3083.76
         ],
         "high": [
          3246.99,
          3182.51,
          3097.07,
          2959.72,
          3090.96,
          3136.72,
          3130.97,
          3083.04,
          2985.93,
          2863.89,
          2882.59,
          2825.6,
          2660.95,
          2711.33,
          2562.98,
          2553.93,
          2453.57,
          2466.97,
          2453.01,
          2300.73,
          2449.71,
          2571.42,
          2637.01,
          2615.91,
          2631.8,
          2641.39,
          2522.75,
          2533.22,
          2538.18,
          2676.85,
          2756.89,
          2760.75,
          2818.57,
          2782.46,
          2851.85,
          2801.88,
          2806.51,
          2879.22,
          2868.98,
          2785.54,
          2815.1,
          2844.9,
          2842.71,
          2887.72,
          2921.15,
          2954.86,
          2930.91,
          2869.09,
          2844.24,
          2898.23,
          2891.11,
          2901.92,
          2932.16,
          2944.25,
          2945.82,
          2874.14,
          2852.8,
          2865.01,
          2968.09,
          2964.21,
          2980.29,
          2978.5,
          2956.76,
          3021.72,
          3036.25,
          3068.67,
          3049.17,
          3062.18,
          3081.07,
          3130.94,
          3128.91,
          3211.72,
          3233.13,
          3222.71,
          3223.27,
          3123.53,
          3088.42,
          3079.76,
          3153.45,
          3141.16,
          3120.0,
          3155.53,
          3120.92,
          3154.9,
          3115.01,
          3086.25
         ],
         "low": [
          3118.77,
          3108.99,
          2977.39,
          2855.84,
          2945.19,
          2976.63,
          3034.38,
          2999.83,
          2901.54,
          2734.43,
          2734.0,
          2707.22,
          2478.86,
          2492.37,
          2380.94,
          2367.04,
          2280.52,
          2319.78,
          2295.56,
          2191.86,
          2344.44,
          2407.53,
          2500.72,
          2520.02,
          2545.28,
          2571.15,
          2447.49,
          2455.79,
          2459.96,
          2574.57,
          2657.67,
          2663.3,
          2762.36,
          2721.17,
          2805.1,
          2761.54,
          2764.32,
          2830.88,
          2820.43,
          2727.1,
          2775.95,
          2794.26,
          2791.76,
          2852.89,
          2860.71,
          2912.16,
          2892.47,
          2821.61,
          2797.85,
          2863.55,
          2847.65,
          2876.48,
          2902.88,
          2903.44,
          2869.59,
          2793.15,
          2766.64,
          2816.78,
          2913.86,
          2922.35,
          2953.63,
          2938.57,
          2933.59,
          2988.17,
          2969.75,
          3023.4,
          2998.61,
          3031.54,
          3051.64,
          3098.9,
          3090.41,
          3163.84,
          3196.0,
          3193.11,
          3181.49,
          2999.49,
          2984.47,
          2965.66,
          3076.06,
          3108.03,
          3093.51,
          3083.11,
          3079.39,
          3127.12,
          3032.13,
          3024.01
         ],
         "open": [
          3238.94,
          3139.9,
          3062.54,
          2916.9,
          2974.28,
          3096.46,
          3045.75,
          3075.7,
          2954.2,
          2863.89,
          2813.48,
          2825.6,
          2630.86,
          2569.99,
          2508.59,
          2425.66,
          2436.5,
          2393.48,
          2431.94,
          2290.71,
          2344.44,
          2457.77,
          2501.29,
          2555.87,
          2558.98,
          2614.69,
          2498.08,
          2458.54,
          2514.92,
          2578.28,
          2738.65,
          2685.0,
          2776.99,
          2782.46,
          2805.1,
          2795.64,
          2799.34,
          2842.43,
          2845.62,
          2784.81,
          2787.89,
          2810.42,
          2812.64,
          2854.65,
          2909.96,
          2918.46,
          2930.91,
          2869.09,
          2815.01,
          2868.88,
          2883.14,
          2878.26,
          2908.83,
          2915.46,
          2939.5,
          2865.86,
          2794.54,
          2829.95,
          2913.86,
          2948.59,
          2953.63,
          2969.95,
          2948.05,
          3004.08,
          3015.65,
          3046.61,
          3025.17,
          3038.78,
          3064.78,
          3098.9,
          3111.56,
          3163.84,
          3199.92,
          3213.32,
          3213.42,
          3123.53,
          3071.04,
          2993.76,
          3131.0,
          3136.13,
          3101.64,
          3140.29,
          3094.42,
          3138.7,
          3114.4,
          3046.6
         ],
         "x": [
          "2020-02-25T00:00:00",
          "2020-02-26T00:00:00",
          "2020-02-27T00:00:00",
          "2020-02-28T00:00:00",
          "2020-03-02T00:00:00",
          "2020-03-03T00:00:00",
          "2020-03-04T00:00:00",
          "2020-03-05T00:00:00",
          "2020-03-06T00:00:00",
          "2020-03-09T00:00:00",
          "2020-03-10T00:00:00",
          "2020-03-11T00:00:00",
          "2020-03-12T00:00:00",
          "2020-03-13T00:00:00",
          "2020-03-16T00:00:00",
          "2020-03-17T00:00:00",
          "2020-03-18T00:00:00",
          "2020-03-19T00:00:00",
          "2020-03-20T00:00:00",
          "2020-03-23T00:00:00",
          "2020-03-24T00:00:00",
          "2020-03-25T00:00:00",
          "2020-03-26T00:00:00",
          "2020-03-27T00:00:00",
          "2020-03-30T00:00:00",
          "2020-03-31T00:00:00",
          "2020-04-01T00:00:00",
          "2020-04-02T00:00:00",
          "2020-04-03T00:00:00",
          "2020-04-06T00:00:00",
          "2020-04-07T00:00:00",
          "2020-04-08T00:00:00",
          "2020-04-09T00:00:00",
          "2020-04-13T00:00:00",
          "2020-04-14T00:00:00",
          "2020-04-15T00:00:00",
          "2020-04-16T00:00:00",
          "2020-04-17T00:00:00",
          "2020-04-20T00:00:00",
          "2020-04-21T00:00:00",
          "2020-04-22T00:00:00",
          "2020-04-23T00:00:00",
          "2020-04-24T00:00:00",
          "2020-04-27T00:00:00",
          "2020-04-28T00:00:00",
          "2020-04-29T00:00:00",
          "2020-04-30T00:00:00",
          "2020-05-01T00:00:00",
          "2020-05-04T00:00:00",
          "2020-05-05T00:00:00",
          "2020-05-06T00:00:00",
          "2020-05-07T00:00:00",
          "2020-05-08T00:00:00",
          "2020-05-11T00:00:00",
          "2020-05-12T00:00:00",
          "2020-05-13T00:00:00",
          "2020-05-14T00:00:00",
          "2020-05-15T00:00:00",
          "2020-05-18T00:00:00",
          "2020-05-19T00:00:00",
          "2020-05-20T00:00:00",
          "2020-05-21T00:00:00",
          "2020-05-22T00:00:00",
          "2020-05-26T00:00:00",
          "2020-05-27T00:00:00",
          "2020-05-28T00:00:00",
          "2020-05-29T00:00:00",
          "2020-06-01T00:00:00",
          "2020-06-02T00:00:00",
          "2020-06-03T00:00:00",
          "2020-06-04T00:00:00",
          "2020-06-05T00:00:00",
          "2020-06-08T00:00:00",
          "2020-06-09T00:00:00",
          "2020-06-10T00:00:00",
          "2020-06-11T00:00:00",
          "2020-06-12T00:00:00",
          "2020-06-15T00:00:00",
          "2020-06-16T00:00:00",
          "2020-06-17T00:00:00",
          "2020-06-18T00:00:00",
          "2020-06-19T00:00:00",
          "2020-06-22T00:00:00",
          "2020-06-23T00:00:00",
          "2020-06-24T00:00:00",
          "2020-06-25T00:00:00"
         ],
         "type": "candlestick",
         "xaxis": "x3",
         "yaxis": "y3"
        },
        {
         "close": [
          4001.05,
          3935.18,
          3930.08,
          4023.89,
          4008.01,
          4088.85,
          3923.68,
          3900.79,
          3901.36,
          3973.75,
          3941.48,
          3978.73,
          4057.84,
          4158.24
         ],
         "high": [
          4068.82,
          4049.09,
          3964.8,
          4038.88,
          4046.46,
          4090.72,
          4051.98,
          3945.96,
          3943.42,
          3981.88,
          3955.68,
          3999.33,
          4075.14,
          4158.49
         ],
         "low": [
          3958.17,
          3928.82,
          3858.87,
          3963.9,
          3983.99,
          4033.93,
          3911.91,
          3876.58,
          3810.32,
          3909.04,
          3875.13,
          3925.03,
          3984.6,
          4077.43
         ],
         "open": [
          4035.18,
          3990.08,
          3903.95,
          3963.9,
          4013.02,
          4052.0,
          4051.98,
          3899.0,
          3927.76,
          3927.02,
          3942.94,
          3929.59,
          3984.6,
          4077.43
         ],
         "x": [
          "2022-05-10T00:00:00",
          "2022-05-11T00:00:00",
          "2022-05-12T00:00:00",
          "2022-05-13T00:00:00",
          "2022-05-16T00:00:00",
          "2022-05-17T00:00:00",
          "2022-05-18T00:00:00",
          "2022-05-19T00:00:00",
          "2022-05-20T00:00:00",
          "2022-05-23T00:00:00",
          "2022-05-24T00:00:00",
          "2022-05-25T00:00:00",
          "2022-05-26T00:00:00",
          "2022-05-27T00:00:00"
         ],
         "type": "candlestick",
         "xaxis": "x4",
         "yaxis": "y4"
        },
        {
         "close": [
          3966.85,
          3924.26,
          3908.19,
          3979.87,
          4006.18,
          4067.36,
          4110.41,
          3932.69,
          3946.01,
          3901.35,
          3873.33,
          3899.89,
          3855.93,
          3789.93,
          3757.99,
          3693.23,
          3655.04,
          3647.29,
          3719.04,
          3640.47,
          3585.62
         ],
         "high": [
          3970.23,
          4018.43,
          3942.55,
          3987.89,
          4010.5,
          4076.81,
          4119.28,
          4037.12,
          3961.94,
          3959.14,
          3880.95,
          3900.45,
          3876.01,
          3907.07,
          3790.9,
          3727.14,
          3715.67,
          3717.53,
          3736.74,
          3687.01,
          3671.44
         ],
         "low": [
          3903.65,
          3906.21,
          3886.75,
          3906.03,
          3944.81,
          4022.94,
          4083.67,
          3921.28,
          3912.18,
          3888.28,
          3837.08,
          3838.5,
          3827.54,
          3789.49,
          3749.45,
          3647.47,
          3644.76,
          3623.29,
          3640.61,
          3610.4,
          3584.13
         ],
         "open": [
          3936.73,
          3994.66,
          3930.89,
          3909.43,
          3959.94,
          4022.94,
          4083.67,
          4037.12,
          3940.73,
          3932.41,
          3880.95,
          3849.91,
          3875.23,
          3871.4,
          3782.36,
          3727.14,
          3682.72,
          3686.44,
          3651.94,
          3687.01,
          3633.48
         ],
         "x": [
          "2022-09-01T00:00:00",
          "2022-09-02T00:00:00",
          "2022-09-06T00:00:00",
          "2022-09-07T00:00:00",
          "2022-09-08T00:00:00",
          "2022-09-09T00:00:00",
          "2022-09-12T00:00:00",
          "2022-09-13T00:00:00",
          "2022-09-14T00:00:00",
          "2022-09-15T00:00:00",
          "2022-09-16T00:00:00",
          "2022-09-19T00:00:00",
          "2022-09-20T00:00:00",
          "2022-09-21T00:00:00",
          "2022-09-22T00:00:00",
          "2022-09-23T00:00:00",
          "2022-09-26T00:00:00",
          "2022-09-27T00:00:00",
          "2022-09-28T00:00:00",
          "2022-09-29T00:00:00",
          "2022-09-30T00:00:00"
         ],
         "type": "candlestick",
         "xaxis": "x",
         "yaxis": "y"
        }
       ],
       "layout": {
        "template": {
         "data": {
          "histogram2dcontour": [
           {
            "type": "histogram2dcontour",
            "colorbar": {
             "outlinewidth": 0,
             "ticks": ""
            },
            "colorscale": [
             [
              0.0,
              "#0d0887"
             ],
             [
              0.1111111111111111,
              "#46039f"
             ],
             [
              0.2222222222222222,
              "#7201a8"
             ],
             [
              0.3333333333333333,
              "#9c179e"
             ],
             [
              0.4444444444444444,
              "#bd3786"
             ],
             [
              0.5555555555555556,
              "#d8576b"
             ],
             [
              0.6666666666666666,
              "#ed7953"
             ],
             [
              0.7777777777777778,
              "#fb9f3a"
             ],
             [
              0.8888888888888888,
              "#fdca26"
             ],
             [
              1.0,
              "#f0f921"
             ]
            ]
           }
          ],
          "choropleth": [
           {
            "type": "choropleth",
            "colorbar": {
             "outlinewidth": 0,
             "ticks": ""
            }
           }
          ],
          "histogram2d": [
           {
            "type": "histogram2d",
            "colorbar": {
             "outlinewidth": 0,
             "ticks": ""
            },
            "colorscale": [
             [
              0.0,
              "#0d0887"
             ],
             [
              0.1111111111111111,
              "#46039f"
             ],
             [
              0.2222222222222222,
              "#7201a8"
             ],
             [
              0.3333333333333333,
              "#9c179e"
             ],
             [
              0.4444444444444444,
              "#bd3786"
             ],
             [
              0.5555555555555556,
              "#d8576b"
             ],
             [
              0.6666666666666666,
              "#ed7953"
             ],
             [
              0.7777777777777778,
              "#fb9f3a"
             ],
             [
              0.8888888888888888,
              "#fdca26"
             ],
             [
              1.0,
              "#f0f921"
             ]
            ]
           }
          ],
          "heatmap": [
           {
            "type": "heatmap",
            "colorbar": {
             "outlinewidth": 0,
             "ticks": ""
            },
            "colorscale": [
             [
              0.0,
              "#0d0887"
             ],
             [
              0.1111111111111111,
              "#46039f"
             ],
             [
              0.2222222222222222,
              "#7201a8"
             ],
             [
              0.3333333333333333,
              "#9c179e"
             ],
             [
              0.4444444444444444,
              "#bd3786"
             ],
             [
              0.5555555555555556,
              "#d8576b"
             ],
             [
              0.6666666666666666,
              "#ed7953"
             ],
             [
              0.7777777777777778,
              "#fb9f3a"
             ],
             [
              0.8888888888888888,
              "#fdca26"
             ],
             [
              1.0,
              "#f0f921"
             ]
            ]
           }
          ],
          "heatmapgl": [
           {
            "type": "heatmapgl",
            "colorbar": {
             "outlinewidth": 0,
             "ticks": ""
            },
            "colorscale": [
             [
              0.0,
              "#0d0887"
             ],
             [
              0.1111111111111111,
              "#46039f"
             ],
             [
              0.2222222222222222,
              "#7201a8"
             ],
             [
              0.3333333333333333,
              "#9c179e"
             ],
             [
              0.4444444444444444,
              "#bd3786"
             ],
             [
              0.5555555555555556,
              "#d8576b"
             ],
             [
              0.6666666666666666,
              "#ed7953"
             ],
             [
              0.7777777777777778,
              "#fb9f3a"
             ],
             [
              0.8888888888888888,
              "#fdca26"
             ],
             [
              1.0,
              "#f0f921"
             ]
            ]
           }
          ],
          "contourcarpet": [
           {
            "type": "contourcarpet",
            "colorbar": {
             "outlinewidth": 0,
             "ticks": ""
            }
           }
          ],
          "contour": [
           {
            "type": "contour",
            "colorbar": {
             "outlinewidth": 0,
             "ticks": ""
            },
            "colorscale": [
             [
              0.0,
              "#0d0887"
             ],
             [
              0.1111111111111111,
              "#46039f"
             ],
             [
              0.2222222222222222,
              "#7201a8"
             ],
             [
              0.3333333333333333,
              "#9c179e"
             ],
             [
              0.4444444444444444,
              "#bd3786"
             ],
             [
              0.5555555555555556,
              "#d8576b"
             ],
             [
              0.6666666666666666,
              "#ed7953"
             ],
             [
              0.7777777777777778,
              "#fb9f3a"
             ],
             [
              0.8888888888888888,
              "#fdca26"
             ],
             [
              1.0,
              "#f0f921"
             ]
            ]
           }
          ],
          "surface": [
           {
            "type": "surface",
            "colorbar": {
             "outlinewidth": 0,
             "ticks": ""
            },
            "colorscale": [
             [
              0.0,
              "#0d0887"
             ],
             [
              0.1111111111111111,
              "#46039f"
             ],
             [
              0.2222222222222222,
              "#7201a8"
             ],
             [
              0.3333333333333333,
              "#9c179e"
             ],
             [
              0.4444444444444444,
              "#bd3786"
             ],
             [
              0.5555555555555556,
              "#d8576b"
             ],
             [
              0.6666666666666666,
              "#ed7953"
             ],
             [
              0.7777777777777778,
              "#fb9f3a"
             ],
             [
              0.8888888888888888,
              "#fdca26"
             ],
             [
              1.0,
              "#f0f921"
             ]
            ]
           }
          ],
          "mesh3d": [
           {
            "type": "mesh3d",
            "colorbar": {
             "outlinewidth": 0,
             "ticks": ""
            }
           }
          ],
          "scatter": [
           {
            "marker": {
             "line": {
              "color": "#283442"
             }
            },
            "type": "scatter"
           }
          ],
          "parcoords": [
           {
            "type": "parcoords",
            "line": {
             "colorbar": {
              "outlinewidth": 0,
              "ticks": ""
             }
            }
           }
          ],
          "scatterpolargl": [
           {
            "type": "scatterpolargl",
            "marker": {
             "colorbar": {
              "outlinewidth": 0,
              "ticks": ""
             }
            }
           }
          ],
          "bar": [
           {
            "error_x": {
             "color": "#f2f5fa"
            },
            "error_y": {
             "color": "#f2f5fa"
            },
            "marker": {
             "line": {
              "color": "rgb(17,17,17)",
              "width": 0.5
             },
             "pattern": {
              "fillmode": "overlay",
              "size": 10,
              "solidity": 0.2
             }
            },
            "type": "bar"
           }
          ],
          "scattergeo": [
           {
            "type": "scattergeo",
            "marker": {
             "colorbar": {
              "outlinewidth": 0,
              "ticks": ""
             }
            }
           }
          ],
          "scatterpolar": [
           {
            "type": "scatterpolar",
            "marker": {
             "colorbar": {
              "outlinewidth": 0,
              "ticks": ""
             }
            }
           }
          ],
          "histogram": [
           {
            "marker": {
             "pattern": {
              "fillmode": "overlay",
              "size": 10,
              "solidity": 0.2
             }
            },
            "type": "histogram"
           }
          ],
          "scattergl": [
           {
            "marker": {
             "line": {
              "color": "#283442"
             }
            },
            "type": "scattergl"
           }
          ],
          "scatter3d": [
           {
            "type": "scatter3d",
            "line": {
             "colorbar": {
              "outlinewidth": 0,
              "ticks": ""
             }
            },
            "marker": {
             "colorbar": {
              "outlinewidth": 0,
              "ticks": ""
             }
            }
           }
          ],
          "scattermapbox": [
           {
            "type": "scattermapbox",
            "marker": {
             "colorbar": {
              "outlinewidth": 0,
              "ticks": ""
             }
            }
           }
          ],
          "scatterternary": [
           {
            "type": "scatterternary",
            "marker": {
             "colorbar": {
              "outlinewidth": 0,
              "ticks": ""
             }
            }
           }
          ],
          "scattercarpet": [
           {
            "type": "scattercarpet",
            "marker": {
             "colorbar": {
              "outlinewidth": 0,
              "ticks": ""
             }
            }
           }
          ],
          "carpet": [
           {
            "aaxis": {
             "endlinecolor": "#A2B1C6",
             "gridcolor": "#506784",
             "linecolor": "#506784",
             "minorgridcolor": "#506784",
             "startlinecolor": "#A2B1C6"
            },
            "baxis": {
             "endlinecolor": "#A2B1C6",
             "gridcolor": "#506784",
             "linecolor": "#506784",
             "minorgridcolor": "#506784",
             "startlinecolor": "#A2B1C6"
            },
            "type": "carpet"
           }
          ],
          "table": [
           {
            "cells": {
             "fill": {
              "color": "#506784"
             },
             "line": {
              "color": "rgb(17,17,17)"
             }
            },
            "header": {
             "fill": {
              "color": "#2a3f5f"
             },
             "line": {
              "color": "rgb(17,17,17)"
             }
            },
            "type": "table"
           }
          ],
          "barpolar": [
           {
            "marker": {
             "line": {
              "color": "rgb(17,17,17)",
              "width": 0.5
             },
             "pattern": {
              "fillmode": "overlay",
              "size": 10,
              "solidity": 0.2
             }
            },
            "type": "barpolar"
           }
          ],
          "pie": [
           {
            "automargin": true,
            "type": "pie"
           }
          ]
         },
         "layout": {
          "autotypenumbers": "strict",
          "colorway": [
           "#636efa",
           "#EF553B",
           "#00cc96",
           "#ab63fa",
           "#FFA15A",
           "#19d3f3",
           "#FF6692",
           "#B6E880",
           "#FF97FF",
           "#FECB52"
          ],
          "font": {
           "color": "#f2f5fa"
          },
          "hovermode": "closest",
          "hoverlabel": {
           "align": "left"
          },
          "paper_bgcolor": "rgb(17,17,17)",
          "plot_bgcolor": "rgb(17,17,17)",
          "polar": {
           "bgcolor": "rgb(17,17,17)",
           "angularaxis": {
            "gridcolor": "#506784",
            "linecolor": "#506784",
            "ticks": ""
           },
           "radialaxis": {
            "gridcolor": "#506784",
            "linecolor": "#506784",
            "ticks": ""
           }
          },
          "ternary": {
           "bgcolor": "rgb(17,17,17)",
           "aaxis": {
            "gridcolor": "#506784",
            "linecolor": "#506784",
            "ticks": ""
           },
           "baxis": {
            "gridcolor": "#506784",
            "linecolor": "#506784",
            "ticks": ""
           },
           "caxis": {
            "gridcolor": "#506784",
            "linecolor": "#506784",
            "ticks": ""
           }
          },
          "coloraxis": {
           "colorbar": {
            "outlinewidth": 0,
            "ticks": ""
           }
          },
          "colorscale": {
           "sequential": [
            [
             0.0,
             "#0d0887"
            ],
            [
             0.1111111111111111,
             "#46039f"
            ],
            [
             0.2222222222222222,
             "#7201a8"
            ],
            [
             0.3333333333333333,
             "#9c179e"
            ],
            [
             0.4444444444444444,
             "#bd3786"
            ],
            [
             0.5555555555555556,
             "#d8576b"
            ],
            [
             0.6666666666666666,
             "#ed7953"
            ],
            [
             0.7777777777777778,
             "#fb9f3a"
            ],
            [
             0.8888888888888888,
             "#fdca26"
            ],
            [
             1.0,
             "#f0f921"
            ]
           ],
           "sequentialminus": [
            [
             0.0,
             "#0d0887"
            ],
            [
             0.1111111111111111,
             "#46039f"
            ],
            [
             0.2222222222222222,
             "#7201a8"
            ],
            [
             0.3333333333333333,
             "#9c179e"
            ],
            [
             0.4444444444444444,
             "#bd3786"
            ],
            [
             0.5555555555555556,
             "#d8576b"
            ],
            [
             0.6666666666666666,
             "#ed7953"
            ],
            [
             0.7777777777777778,
             "#fb9f3a"
            ],
            [
             0.8888888888888888,
             "#fdca26"
            ],
            [
             1.0,
             "#f0f921"
            ]
           ],
           "diverging": [
            [
             0,
             "#8e0152"
            ],
            [
             0.1,
             "#c51b7d"
            ],
            [
             0.2,
             "#de77ae"
            ],
            [
             0.3,
             "#f1b6da"
            ],
            [
             0.4,
             "#fde0ef"
            ],
            [
             0.5,
             "#f7f7f7"
            ],
            [
             0.6,
             "#e6f5d0"
            ],
            [
             0.7,
             "#b8e186"
            ],
            [
             0.8,
             "#7fbc41"
            ],
            [
             0.9,
             "#4d9221"
            ],
            [
             1,
             "#276419"
            ]
           ]
          },
          "xaxis": {
           "gridcolor": "#283442",
           "linecolor": "#506784",
           "ticks": "",
           "title": {
            "standoff": 15
           },
           "zerolinecolor": "#283442",
           "automargin": true,
           "zerolinewidth": 2
          },
          "yaxis": {
           "gridcolor": "#283442",
           "linecolor": "#506784",
           "ticks": "",
           "title": {
            "standoff": 15
           },
           "zerolinecolor": "#283442",
           "automargin": true,
           "zerolinewidth": 2
          },
          "scene": {
           "xaxis": {
            "backgroundcolor": "rgb(17,17,17)",
            "gridcolor": "#506784",
            "linecolor": "#506784",
            "showbackground": true,
            "ticks": "",
            "zerolinecolor": "#C8D4E3",
            "gridwidth": 2
           },
           "yaxis": {
            "backgroundcolor": "rgb(17,17,17)",
            "gridcolor": "#506784",
            "linecolor": "#506784",
            "showbackground": true,
            "ticks": "",
            "zerolinecolor": "#C8D4E3",
            "gridwidth": 2
           },
           "zaxis": {
            "backgroundcolor": "rgb(17,17,17)",
            "gridcolor": "#506784",
            "linecolor": "#506784",
            "showbackground": true,
            "ticks": "",
            "zerolinecolor": "#C8D4E3",
            "gridwidth": 2
           }
          },
          "shapedefaults": {
           "line": {
            "color": "#f2f5fa"
           }
          },
          "annotationdefaults": {
           "arrowcolor": "#f2f5fa",
           "arrowhead": 0,
           "arrowwidth": 1
          },
          "geo": {
           "bgcolor": "rgb(17,17,17)",
           "landcolor": "rgb(17,17,17)",
           "subunitcolor": "#506784",
           "showland": true,
           "showlakes": true,
           "lakecolor": "rgb(17,17,17)"
          },
          "title": {
           "x": 0.05
          },
          "updatemenudefaults": {
           "bgcolor": "#506784",
           "borderwidth": 0
          },
          "sliderdefaults": {
           "bgcolor": "#C8D4E3",
           "borderwidth": 1,
           "bordercolor": "rgb(17,17,17)",
           "tickwidth": 0
          },
          "mapbox": {
           "style": "dark"
          }
         }
        },
        "xaxis": {
         "anchor": "y",
         "domain": [
          0.0,
          0.45
         ],
         "rangeslider": {
          "visible": false
         }
        },
        "yaxis": {
         "anchor": "x",
         "domain": [
          0.0,
          0.26666666666666666
         ]
        },
        "xaxis2": {
         "anchor": "y2",
         "domain": [
          0.55,
          1.0
         ],
         "rangeslider": {
          "visible": false
         }
        },
        "yaxis2": {
         "anchor": "x2",
         "domain": [
          0.0,
          0.26666666666666666
         ]
        },
        "xaxis3": {
         "anchor": "y3",
         "domain": [
          0.0,
          0.45
         ],
         "rangeslider": {
          "visible": false
         }
        },
        "yaxis3": {
         "anchor": "x3",
         "domain": [
          0.36666666666666664,
          0.6333333333333333
         ]
        },
        "xaxis4": {
         "anchor": "y4",
         "domain": [
          0.55,
          1.0
         ],
         "rangeslider": {
          "visible": false
         }
        },
        "yaxis4": {
         "anchor": "x4",
         "domain": [
          0.36666666666666664,
          0.6333333333333333
         ]
        },
        "xaxis5": {
         "anchor": "y5",
         "domain": [
          0.0,
          0.45
         ],
         "rangeslider": {
          "visible": false
         }
        },
        "yaxis5": {
         "anchor": "x5",
         "domain": [
          0.7333333333333333,
          1.0
         ]
        },
        "xaxis6": {
         "anchor": "y6",
         "domain": [
          0.55,
          1.0
         ],
         "rangeslider": {
          "visible": false
         }
        },
        "yaxis6": {
         "anchor": "x6",
         "domain": [
          0.7333333333333333,
          1.0
         ]
        },
        "title": {
         "text": "Abnormal Dips throughout Five-Year margin"
        },
        "margin": {
         "l": 20,
         "r": 20,
         "t": 40,
         "b": 60
        },
        "height": 600,
        "width": 800,
        "showlegend": false,
        "paper_bgcolor": "Black"
       },
       "config": {
        "plotlyServerURL": "https://plot.ly"
       }
      },
      "text/html": [
       "<div>                            <div id=\"84f568f9-ad5f-4f9a-97cf-936d2d0e4e1b\" class=\"plotly-graph-div\" style=\"height:600px; width:800px;\"></div>            <script type=\"text/javascript\">                require([\"plotly\"], function(Plotly) {                    window.PLOTLYENV=window.PLOTLYENV || {};                                    if (document.getElementById(\"84f568f9-ad5f-4f9a-97cf-936d2d0e4e1b\")) {                    Plotly.newPlot(                        \"84f568f9-ad5f-4f9a-97cf-936d2d0e4e1b\",                        [{\"close\":[2104.18,2084.07,2086.05,2083.39,2091.54,2102.44,2096.92,2079.61,2035.73,1970.89,1893.21,1867.61,1940.51,1987.66,1988.87],\"high\":[2105.35,2102.66,2089.06,2092.93,2092.45,2102.87,2103.47,2096.17,2076.61,2034.08,1965.15,1948.04,1943.09,1989.6,1993.48],\"low\":[2080.98,2076.49,2052.09,2078.26,2080.61,2079.3,2094.14,2070.53,2035.73,1970.89,1867.01,1867.08,1872.75,1942.77,1975.19],\"open\":[2080.98,2102.66,2081.1,2086.19,2083.15,2089.7,2101.99,2095.69,2076.61,2034.08,1965.15,1898.08,1872.75,1942.77,1986.06],\"x\":[\"2015-08-10T00:00:00\",\"2015-08-11T00:00:00\",\"2015-08-12T00:00:00\",\"2015-08-13T00:00:00\",\"2015-08-14T00:00:00\",\"2015-08-17T00:00:00\",\"2015-08-18T00:00:00\",\"2015-08-19T00:00:00\",\"2015-08-20T00:00:00\",\"2015-08-21T00:00:00\",\"2015-08-24T00:00:00\",\"2015-08-25T00:00:00\",\"2015-08-26T00:00:00\",\"2015-08-27T00:00:00\",\"2015-08-28T00:00:00\"],\"type\":\"candlestick\",\"xaxis\":\"x5\",\"yaxis\":\"y5\"},{\"close\":[2839.25,2872.87,2853.53,2822.43,2823.81,2821.98,2762.13,2648.94,2695.14,2681.66,2581.0,2619.55,2656.0,2662.94,2698.63,2731.2,2732.22,2716.26,2701.33,2703.96,2747.3],\"high\":[2848.56,2872.87,2870.62,2837.75,2839.26,2835.96,2808.92,2763.39,2701.04,2727.67,2685.27,2638.67,2672.61,2668.84,2702.1,2731.51,2754.42,2737.6,2747.75,2731.26,2747.76],\"low\":[2830.94,2846.18,2851.48,2818.27,2813.04,2812.7,2759.97,2638.17,2593.07,2681.33,2580.56,2532.69,2622.45,2637.08,2648.87,2689.82,2725.11,2706.76,2701.29,2697.77,2713.74],\"open\":[2846.24,2847.48,2867.23,2832.74,2832.41,2816.45,2808.92,2741.06,2614.78,2690.95,2685.01,2601.78,2636.75,2646.27,2651.21,2713.46,2727.14,2722.99,2720.53,2710.42,2715.8],\"x\":[\"2018-01-25T00:00:00\",\"2018-01-26T00:00:00\",\"2018-01-29T00:00:00\",\"2018-01-30T00:00:00\",\"2018-01-31T00:00:00\",\"2018-02-01T00:00:00\",\"2018-02-02T00:00:00\",\"2018-02-05T00:00:00\",\"2018-02-06T00:00:00\",\"2018-02-07T00:00:00\",\"2018-02-08T00:00:00\",\"2018-02-09T00:00:00\",\"2018-02-12T00:00:00\",\"2018-02-13T00:00:00\",\"2018-02-14T00:00:00\",\"2018-02-15T00:00:00\",\"2018-02-16T00:00:00\",\"2018-02-20T00:00:00\",\"2018-02-21T00:00:00\",\"2018-02-22T00:00:00\",\"2018-02-23T00:00:00\"],\"type\":\"candlestick\",\"xaxis\":\"x6\",\"yaxis\":\"y6\"},{\"close\":[3128.21,3116.39,2978.76,2954.22,3090.23,3003.37,3130.12,3023.94,2972.37,2746.56,2882.23,2741.38,2480.64,2711.02,2386.13,2529.19,2398.1,2409.39,2304.92,2237.4,2447.33,2475.56,2630.07,2541.47,2626.65,2584.59,2470.5,2526.9,2488.65,2663.68,2659.41,2749.98,2789.82,2761.63,2846.06,2783.36,2799.55,2874.56,2823.16,2736.56,2799.31,2797.8,2836.74,2878.48,2863.39,2939.51,2912.43,2830.71,2842.74,2868.44,2848.42,2881.19,2929.8,2930.32,2870.12,2820.0,2852.5,2863.7,2953.91,2922.94,2971.61,2948.51,2955.45,2991.77,3036.13,3029.73,3044.31,3055.73,3080.82,3122.87,3112.35,3193.93,3232.39,3207.18,3190.14,3002.1,3041.31,3066.59,3124.74,3113.49,3115.34,3097.74,3117.86,3131.29,3050.33,3083.76],\"high\":[3246.99,3182.51,3097.07,2959.72,3090.96,3136.72,3130.97,3083.04,2985.93,2863.89,2882.59,2825.6,2660.95,2711.33,2562.98,2553.93,2453.57,2466.97,2453.01,2300.73,2449.71,2571.42,2637.01,2615.91,2631.8,2641.39,2522.75,2533.22,2538.18,2676.85,2756.89,2760.75,2818.57,2782.46,2851.85,2801.88,2806.51,2879.22,2868.98,2785.54,2815.1,2844.9,2842.71,2887.72,2921.15,2954.86,2930.91,2869.09,2844.24,2898.23,2891.11,2901.92,2932.16,2944.25,2945.82,2874.14,2852.8,2865.01,2968.09,2964.21,2980.29,2978.5,2956.76,3021.72,3036.25,3068.67,3049.17,3062.18,3081.07,3130.94,3128.91,3211.72,3233.13,3222.71,3223.27,3123.53,3088.42,3079.76,3153.45,3141.16,3120.0,3155.53,3120.92,3154.9,3115.01,3086.25],\"low\":[3118.77,3108.99,2977.39,2855.84,2945.19,2976.63,3034.38,2999.83,2901.54,2734.43,2734.0,2707.22,2478.86,2492.37,2380.94,2367.04,2280.52,2319.78,2295.56,2191.86,2344.44,2407.53,2500.72,2520.02,2545.28,2571.15,2447.49,2455.79,2459.96,2574.57,2657.67,2663.3,2762.36,2721.17,2805.1,2761.54,2764.32,2830.88,2820.43,2727.1,2775.95,2794.26,2791.76,2852.89,2860.71,2912.16,2892.47,2821.61,2797.85,2863.55,2847.65,2876.48,2902.88,2903.44,2869.59,2793.15,2766.64,2816.78,2913.86,2922.35,2953.63,2938.57,2933.59,2988.17,2969.75,3023.4,2998.61,3031.54,3051.64,3098.9,3090.41,3163.84,3196.0,3193.11,3181.49,2999.49,2984.47,2965.66,3076.06,3108.03,3093.51,3083.11,3079.39,3127.12,3032.13,3024.01],\"open\":[3238.94,3139.9,3062.54,2916.9,2974.28,3096.46,3045.75,3075.7,2954.2,2863.89,2813.48,2825.6,2630.86,2569.99,2508.59,2425.66,2436.5,2393.48,2431.94,2290.71,2344.44,2457.77,2501.29,2555.87,2558.98,2614.69,2498.08,2458.54,2514.92,2578.28,2738.65,2685.0,2776.99,2782.46,2805.1,2795.64,2799.34,2842.43,2845.62,2784.81,2787.89,2810.42,2812.64,2854.65,2909.96,2918.46,2930.91,2869.09,2815.01,2868.88,2883.14,2878.26,2908.83,2915.46,2939.5,2865.86,2794.54,2829.95,2913.86,2948.59,2953.63,2969.95,2948.05,3004.08,3015.65,3046.61,3025.17,3038.78,3064.78,3098.9,3111.56,3163.84,3199.92,3213.32,3213.42,3123.53,3071.04,2993.76,3131.0,3136.13,3101.64,3140.29,3094.42,3138.7,3114.4,3046.6],\"x\":[\"2020-02-25T00:00:00\",\"2020-02-26T00:00:00\",\"2020-02-27T00:00:00\",\"2020-02-28T00:00:00\",\"2020-03-02T00:00:00\",\"2020-03-03T00:00:00\",\"2020-03-04T00:00:00\",\"2020-03-05T00:00:00\",\"2020-03-06T00:00:00\",\"2020-03-09T00:00:00\",\"2020-03-10T00:00:00\",\"2020-03-11T00:00:00\",\"2020-03-12T00:00:00\",\"2020-03-13T00:00:00\",\"2020-03-16T00:00:00\",\"2020-03-17T00:00:00\",\"2020-03-18T00:00:00\",\"2020-03-19T00:00:00\",\"2020-03-20T00:00:00\",\"2020-03-23T00:00:00\",\"2020-03-24T00:00:00\",\"2020-03-25T00:00:00\",\"2020-03-26T00:00:00\",\"2020-03-27T00:00:00\",\"2020-03-30T00:00:00\",\"2020-03-31T00:00:00\",\"2020-04-01T00:00:00\",\"2020-04-02T00:00:00\",\"2020-04-03T00:00:00\",\"2020-04-06T00:00:00\",\"2020-04-07T00:00:00\",\"2020-04-08T00:00:00\",\"2020-04-09T00:00:00\",\"2020-04-13T00:00:00\",\"2020-04-14T00:00:00\",\"2020-04-15T00:00:00\",\"2020-04-16T00:00:00\",\"2020-04-17T00:00:00\",\"2020-04-20T00:00:00\",\"2020-04-21T00:00:00\",\"2020-04-22T00:00:00\",\"2020-04-23T00:00:00\",\"2020-04-24T00:00:00\",\"2020-04-27T00:00:00\",\"2020-04-28T00:00:00\",\"2020-04-29T00:00:00\",\"2020-04-30T00:00:00\",\"2020-05-01T00:00:00\",\"2020-05-04T00:00:00\",\"2020-05-05T00:00:00\",\"2020-05-06T00:00:00\",\"2020-05-07T00:00:00\",\"2020-05-08T00:00:00\",\"2020-05-11T00:00:00\",\"2020-05-12T00:00:00\",\"2020-05-13T00:00:00\",\"2020-05-14T00:00:00\",\"2020-05-15T00:00:00\",\"2020-05-18T00:00:00\",\"2020-05-19T00:00:00\",\"2020-05-20T00:00:00\",\"2020-05-21T00:00:00\",\"2020-05-22T00:00:00\",\"2020-05-26T00:00:00\",\"2020-05-27T00:00:00\",\"2020-05-28T00:00:00\",\"2020-05-29T00:00:00\",\"2020-06-01T00:00:00\",\"2020-06-02T00:00:00\",\"2020-06-03T00:00:00\",\"2020-06-04T00:00:00\",\"2020-06-05T00:00:00\",\"2020-06-08T00:00:00\",\"2020-06-09T00:00:00\",\"2020-06-10T00:00:00\",\"2020-06-11T00:00:00\",\"2020-06-12T00:00:00\",\"2020-06-15T00:00:00\",\"2020-06-16T00:00:00\",\"2020-06-17T00:00:00\",\"2020-06-18T00:00:00\",\"2020-06-19T00:00:00\",\"2020-06-22T00:00:00\",\"2020-06-23T00:00:00\",\"2020-06-24T00:00:00\",\"2020-06-25T00:00:00\"],\"type\":\"candlestick\",\"xaxis\":\"x3\",\"yaxis\":\"y3\"},{\"close\":[4001.05,3935.18,3930.08,4023.89,4008.01,4088.85,3923.68,3900.79,3901.36,3973.75,3941.48,3978.73,4057.84,4158.24],\"high\":[4068.82,4049.09,3964.8,4038.88,4046.46,4090.72,4051.98,3945.96,3943.42,3981.88,3955.68,3999.33,4075.14,4158.49],\"low\":[3958.17,3928.82,3858.87,3963.9,3983.99,4033.93,3911.91,3876.58,3810.32,3909.04,3875.13,3925.03,3984.6,4077.43],\"open\":[4035.18,3990.08,3903.95,3963.9,4013.02,4052.0,4051.98,3899.0,3927.76,3927.02,3942.94,3929.59,3984.6,4077.43],\"x\":[\"2022-05-10T00:00:00\",\"2022-05-11T00:00:00\",\"2022-05-12T00:00:00\",\"2022-05-13T00:00:00\",\"2022-05-16T00:00:00\",\"2022-05-17T00:00:00\",\"2022-05-18T00:00:00\",\"2022-05-19T00:00:00\",\"2022-05-20T00:00:00\",\"2022-05-23T00:00:00\",\"2022-05-24T00:00:00\",\"2022-05-25T00:00:00\",\"2022-05-26T00:00:00\",\"2022-05-27T00:00:00\"],\"type\":\"candlestick\",\"xaxis\":\"x4\",\"yaxis\":\"y4\"},{\"close\":[3966.85,3924.26,3908.19,3979.87,4006.18,4067.36,4110.41,3932.69,3946.01,3901.35,3873.33,3899.89,3855.93,3789.93,3757.99,3693.23,3655.04,3647.29,3719.04,3640.47,3585.62],\"high\":[3970.23,4018.43,3942.55,3987.89,4010.5,4076.81,4119.28,4037.12,3961.94,3959.14,3880.95,3900.45,3876.01,3907.07,3790.9,3727.14,3715.67,3717.53,3736.74,3687.01,3671.44],\"low\":[3903.65,3906.21,3886.75,3906.03,3944.81,4022.94,4083.67,3921.28,3912.18,3888.28,3837.08,3838.5,3827.54,3789.49,3749.45,3647.47,3644.76,3623.29,3640.61,3610.4,3584.13],\"open\":[3936.73,3994.66,3930.89,3909.43,3959.94,4022.94,4083.67,4037.12,3940.73,3932.41,3880.95,3849.91,3875.23,3871.4,3782.36,3727.14,3682.72,3686.44,3651.94,3687.01,3633.48],\"x\":[\"2022-09-01T00:00:00\",\"2022-09-02T00:00:00\",\"2022-09-06T00:00:00\",\"2022-09-07T00:00:00\",\"2022-09-08T00:00:00\",\"2022-09-09T00:00:00\",\"2022-09-12T00:00:00\",\"2022-09-13T00:00:00\",\"2022-09-14T00:00:00\",\"2022-09-15T00:00:00\",\"2022-09-16T00:00:00\",\"2022-09-19T00:00:00\",\"2022-09-20T00:00:00\",\"2022-09-21T00:00:00\",\"2022-09-22T00:00:00\",\"2022-09-23T00:00:00\",\"2022-09-26T00:00:00\",\"2022-09-27T00:00:00\",\"2022-09-28T00:00:00\",\"2022-09-29T00:00:00\",\"2022-09-30T00:00:00\"],\"type\":\"candlestick\",\"xaxis\":\"x\",\"yaxis\":\"y\"}],                        {\"template\":{\"data\":{\"histogram2dcontour\":[{\"type\":\"histogram2dcontour\",\"colorbar\":{\"outlinewidth\":0,\"ticks\":\"\"},\"colorscale\":[[0.0,\"#0d0887\"],[0.1111111111111111,\"#46039f\"],[0.2222222222222222,\"#7201a8\"],[0.3333333333333333,\"#9c179e\"],[0.4444444444444444,\"#bd3786\"],[0.5555555555555556,\"#d8576b\"],[0.6666666666666666,\"#ed7953\"],[0.7777777777777778,\"#fb9f3a\"],[0.8888888888888888,\"#fdca26\"],[1.0,\"#f0f921\"]]}],\"choropleth\":[{\"type\":\"choropleth\",\"colorbar\":{\"outlinewidth\":0,\"ticks\":\"\"}}],\"histogram2d\":[{\"type\":\"histogram2d\",\"colorbar\":{\"outlinewidth\":0,\"ticks\":\"\"},\"colorscale\":[[0.0,\"#0d0887\"],[0.1111111111111111,\"#46039f\"],[0.2222222222222222,\"#7201a8\"],[0.3333333333333333,\"#9c179e\"],[0.4444444444444444,\"#bd3786\"],[0.5555555555555556,\"#d8576b\"],[0.6666666666666666,\"#ed7953\"],[0.7777777777777778,\"#fb9f3a\"],[0.8888888888888888,\"#fdca26\"],[1.0,\"#f0f921\"]]}],\"heatmap\":[{\"type\":\"heatmap\",\"colorbar\":{\"outlinewidth\":0,\"ticks\":\"\"},\"colorscale\":[[0.0,\"#0d0887\"],[0.1111111111111111,\"#46039f\"],[0.2222222222222222,\"#7201a8\"],[0.3333333333333333,\"#9c179e\"],[0.4444444444444444,\"#bd3786\"],[0.5555555555555556,\"#d8576b\"],[0.6666666666666666,\"#ed7953\"],[0.7777777777777778,\"#fb9f3a\"],[0.8888888888888888,\"#fdca26\"],[1.0,\"#f0f921\"]]}],\"heatmapgl\":[{\"type\":\"heatmapgl\",\"colorbar\":{\"outlinewidth\":0,\"ticks\":\"\"},\"colorscale\":[[0.0,\"#0d0887\"],[0.1111111111111111,\"#46039f\"],[0.2222222222222222,\"#7201a8\"],[0.3333333333333333,\"#9c179e\"],[0.4444444444444444,\"#bd3786\"],[0.5555555555555556,\"#d8576b\"],[0.6666666666666666,\"#ed7953\"],[0.7777777777777778,\"#fb9f3a\"],[0.8888888888888888,\"#fdca26\"],[1.0,\"#f0f921\"]]}],\"contourcarpet\":[{\"type\":\"contourcarpet\",\"colorbar\":{\"outlinewidth\":0,\"ticks\":\"\"}}],\"contour\":[{\"type\":\"contour\",\"colorbar\":{\"outlinewidth\":0,\"ticks\":\"\"},\"colorscale\":[[0.0,\"#0d0887\"],[0.1111111111111111,\"#46039f\"],[0.2222222222222222,\"#7201a8\"],[0.3333333333333333,\"#9c179e\"],[0.4444444444444444,\"#bd3786\"],[0.5555555555555556,\"#d8576b\"],[0.6666666666666666,\"#ed7953\"],[0.7777777777777778,\"#fb9f3a\"],[0.8888888888888888,\"#fdca26\"],[1.0,\"#f0f921\"]]}],\"surface\":[{\"type\":\"surface\",\"colorbar\":{\"outlinewidth\":0,\"ticks\":\"\"},\"colorscale\":[[0.0,\"#0d0887\"],[0.1111111111111111,\"#46039f\"],[0.2222222222222222,\"#7201a8\"],[0.3333333333333333,\"#9c179e\"],[0.4444444444444444,\"#bd3786\"],[0.5555555555555556,\"#d8576b\"],[0.6666666666666666,\"#ed7953\"],[0.7777777777777778,\"#fb9f3a\"],[0.8888888888888888,\"#fdca26\"],[1.0,\"#f0f921\"]]}],\"mesh3d\":[{\"type\":\"mesh3d\",\"colorbar\":{\"outlinewidth\":0,\"ticks\":\"\"}}],\"scatter\":[{\"marker\":{\"line\":{\"color\":\"#283442\"}},\"type\":\"scatter\"}],\"parcoords\":[{\"type\":\"parcoords\",\"line\":{\"colorbar\":{\"outlinewidth\":0,\"ticks\":\"\"}}}],\"scatterpolargl\":[{\"type\":\"scatterpolargl\",\"marker\":{\"colorbar\":{\"outlinewidth\":0,\"ticks\":\"\"}}}],\"bar\":[{\"error_x\":{\"color\":\"#f2f5fa\"},\"error_y\":{\"color\":\"#f2f5fa\"},\"marker\":{\"line\":{\"color\":\"rgb(17,17,17)\",\"width\":0.5},\"pattern\":{\"fillmode\":\"overlay\",\"size\":10,\"solidity\":0.2}},\"type\":\"bar\"}],\"scattergeo\":[{\"type\":\"scattergeo\",\"marker\":{\"colorbar\":{\"outlinewidth\":0,\"ticks\":\"\"}}}],\"scatterpolar\":[{\"type\":\"scatterpolar\",\"marker\":{\"colorbar\":{\"outlinewidth\":0,\"ticks\":\"\"}}}],\"histogram\":[{\"marker\":{\"pattern\":{\"fillmode\":\"overlay\",\"size\":10,\"solidity\":0.2}},\"type\":\"histogram\"}],\"scattergl\":[{\"marker\":{\"line\":{\"color\":\"#283442\"}},\"type\":\"scattergl\"}],\"scatter3d\":[{\"type\":\"scatter3d\",\"line\":{\"colorbar\":{\"outlinewidth\":0,\"ticks\":\"\"}},\"marker\":{\"colorbar\":{\"outlinewidth\":0,\"ticks\":\"\"}}}],\"scattermapbox\":[{\"type\":\"scattermapbox\",\"marker\":{\"colorbar\":{\"outlinewidth\":0,\"ticks\":\"\"}}}],\"scatterternary\":[{\"type\":\"scatterternary\",\"marker\":{\"colorbar\":{\"outlinewidth\":0,\"ticks\":\"\"}}}],\"scattercarpet\":[{\"type\":\"scattercarpet\",\"marker\":{\"colorbar\":{\"outlinewidth\":0,\"ticks\":\"\"}}}],\"carpet\":[{\"aaxis\":{\"endlinecolor\":\"#A2B1C6\",\"gridcolor\":\"#506784\",\"linecolor\":\"#506784\",\"minorgridcolor\":\"#506784\",\"startlinecolor\":\"#A2B1C6\"},\"baxis\":{\"endlinecolor\":\"#A2B1C6\",\"gridcolor\":\"#506784\",\"linecolor\":\"#506784\",\"minorgridcolor\":\"#506784\",\"startlinecolor\":\"#A2B1C6\"},\"type\":\"carpet\"}],\"table\":[{\"cells\":{\"fill\":{\"color\":\"#506784\"},\"line\":{\"color\":\"rgb(17,17,17)\"}},\"header\":{\"fill\":{\"color\":\"#2a3f5f\"},\"line\":{\"color\":\"rgb(17,17,17)\"}},\"type\":\"table\"}],\"barpolar\":[{\"marker\":{\"line\":{\"color\":\"rgb(17,17,17)\",\"width\":0.5},\"pattern\":{\"fillmode\":\"overlay\",\"size\":10,\"solidity\":0.2}},\"type\":\"barpolar\"}],\"pie\":[{\"automargin\":true,\"type\":\"pie\"}]},\"layout\":{\"autotypenumbers\":\"strict\",\"colorway\":[\"#636efa\",\"#EF553B\",\"#00cc96\",\"#ab63fa\",\"#FFA15A\",\"#19d3f3\",\"#FF6692\",\"#B6E880\",\"#FF97FF\",\"#FECB52\"],\"font\":{\"color\":\"#f2f5fa\"},\"hovermode\":\"closest\",\"hoverlabel\":{\"align\":\"left\"},\"paper_bgcolor\":\"rgb(17,17,17)\",\"plot_bgcolor\":\"rgb(17,17,17)\",\"polar\":{\"bgcolor\":\"rgb(17,17,17)\",\"angularaxis\":{\"gridcolor\":\"#506784\",\"linecolor\":\"#506784\",\"ticks\":\"\"},\"radialaxis\":{\"gridcolor\":\"#506784\",\"linecolor\":\"#506784\",\"ticks\":\"\"}},\"ternary\":{\"bgcolor\":\"rgb(17,17,17)\",\"aaxis\":{\"gridcolor\":\"#506784\",\"linecolor\":\"#506784\",\"ticks\":\"\"},\"baxis\":{\"gridcolor\":\"#506784\",\"linecolor\":\"#506784\",\"ticks\":\"\"},\"caxis\":{\"gridcolor\":\"#506784\",\"linecolor\":\"#506784\",\"ticks\":\"\"}},\"coloraxis\":{\"colorbar\":{\"outlinewidth\":0,\"ticks\":\"\"}},\"colorscale\":{\"sequential\":[[0.0,\"#0d0887\"],[0.1111111111111111,\"#46039f\"],[0.2222222222222222,\"#7201a8\"],[0.3333333333333333,\"#9c179e\"],[0.4444444444444444,\"#bd3786\"],[0.5555555555555556,\"#d8576b\"],[0.6666666666666666,\"#ed7953\"],[0.7777777777777778,\"#fb9f3a\"],[0.8888888888888888,\"#fdca26\"],[1.0,\"#f0f921\"]],\"sequentialminus\":[[0.0,\"#0d0887\"],[0.1111111111111111,\"#46039f\"],[0.2222222222222222,\"#7201a8\"],[0.3333333333333333,\"#9c179e\"],[0.4444444444444444,\"#bd3786\"],[0.5555555555555556,\"#d8576b\"],[0.6666666666666666,\"#ed7953\"],[0.7777777777777778,\"#fb9f3a\"],[0.8888888888888888,\"#fdca26\"],[1.0,\"#f0f921\"]],\"diverging\":[[0,\"#8e0152\"],[0.1,\"#c51b7d\"],[0.2,\"#de77ae\"],[0.3,\"#f1b6da\"],[0.4,\"#fde0ef\"],[0.5,\"#f7f7f7\"],[0.6,\"#e6f5d0\"],[0.7,\"#b8e186\"],[0.8,\"#7fbc41\"],[0.9,\"#4d9221\"],[1,\"#276419\"]]},\"xaxis\":{\"gridcolor\":\"#283442\",\"linecolor\":\"#506784\",\"ticks\":\"\",\"title\":{\"standoff\":15},\"zerolinecolor\":\"#283442\",\"automargin\":true,\"zerolinewidth\":2},\"yaxis\":{\"gridcolor\":\"#283442\",\"linecolor\":\"#506784\",\"ticks\":\"\",\"title\":{\"standoff\":15},\"zerolinecolor\":\"#283442\",\"automargin\":true,\"zerolinewidth\":2},\"scene\":{\"xaxis\":{\"backgroundcolor\":\"rgb(17,17,17)\",\"gridcolor\":\"#506784\",\"linecolor\":\"#506784\",\"showbackground\":true,\"ticks\":\"\",\"zerolinecolor\":\"#C8D4E3\",\"gridwidth\":2},\"yaxis\":{\"backgroundcolor\":\"rgb(17,17,17)\",\"gridcolor\":\"#506784\",\"linecolor\":\"#506784\",\"showbackground\":true,\"ticks\":\"\",\"zerolinecolor\":\"#C8D4E3\",\"gridwidth\":2},\"zaxis\":{\"backgroundcolor\":\"rgb(17,17,17)\",\"gridcolor\":\"#506784\",\"linecolor\":\"#506784\",\"showbackground\":true,\"ticks\":\"\",\"zerolinecolor\":\"#C8D4E3\",\"gridwidth\":2}},\"shapedefaults\":{\"line\":{\"color\":\"#f2f5fa\"}},\"annotationdefaults\":{\"arrowcolor\":\"#f2f5fa\",\"arrowhead\":0,\"arrowwidth\":1},\"geo\":{\"bgcolor\":\"rgb(17,17,17)\",\"landcolor\":\"rgb(17,17,17)\",\"subunitcolor\":\"#506784\",\"showland\":true,\"showlakes\":true,\"lakecolor\":\"rgb(17,17,17)\"},\"title\":{\"x\":0.05},\"updatemenudefaults\":{\"bgcolor\":\"#506784\",\"borderwidth\":0},\"sliderdefaults\":{\"bgcolor\":\"#C8D4E3\",\"borderwidth\":1,\"bordercolor\":\"rgb(17,17,17)\",\"tickwidth\":0},\"mapbox\":{\"style\":\"dark\"}}},\"xaxis\":{\"anchor\":\"y\",\"domain\":[0.0,0.45],\"rangeslider\":{\"visible\":false}},\"yaxis\":{\"anchor\":\"x\",\"domain\":[0.0,0.26666666666666666]},\"xaxis2\":{\"anchor\":\"y2\",\"domain\":[0.55,1.0],\"rangeslider\":{\"visible\":false}},\"yaxis2\":{\"anchor\":\"x2\",\"domain\":[0.0,0.26666666666666666]},\"xaxis3\":{\"anchor\":\"y3\",\"domain\":[0.0,0.45],\"rangeslider\":{\"visible\":false}},\"yaxis3\":{\"anchor\":\"x3\",\"domain\":[0.36666666666666664,0.6333333333333333]},\"xaxis4\":{\"anchor\":\"y4\",\"domain\":[0.55,1.0],\"rangeslider\":{\"visible\":false}},\"yaxis4\":{\"anchor\":\"x4\",\"domain\":[0.36666666666666664,0.6333333333333333]},\"xaxis5\":{\"anchor\":\"y5\",\"domain\":[0.0,0.45],\"rangeslider\":{\"visible\":false}},\"yaxis5\":{\"anchor\":\"x5\",\"domain\":[0.7333333333333333,1.0]},\"xaxis6\":{\"anchor\":\"y6\",\"domain\":[0.55,1.0],\"rangeslider\":{\"visible\":false}},\"yaxis6\":{\"anchor\":\"x6\",\"domain\":[0.7333333333333333,1.0]},\"title\":{\"text\":\"Abnormal Dips throughout Five-Year margin\"},\"margin\":{\"l\":20,\"r\":20,\"t\":40,\"b\":60},\"height\":600,\"width\":800,\"showlegend\":false,\"paper_bgcolor\":\"Black\"},                        {\"responsive\": true}                    ).then(function(){\n",
       "                            \n",
       "var gd = document.getElementById('84f568f9-ad5f-4f9a-97cf-936d2d0e4e1b');\n",
       "var x = new MutationObserver(function (mutations, observer) {{\n",
       "        var display = window.getComputedStyle(gd).display;\n",
       "        if (!display || display === 'none') {{\n",
       "            console.log([gd, 'removed!']);\n",
       "            Plotly.purge(gd);\n",
       "            observer.disconnect();\n",
       "        }}\n",
       "}});\n",
       "\n",
       "// Listen for the removal of the full notebook cells\n",
       "var notebookContainer = gd.closest('#notebook-container');\n",
       "if (notebookContainer) {{\n",
       "    x.observe(notebookContainer, {childList: true});\n",
       "}}\n",
       "\n",
       "// Listen for the clearing of the current output cell\n",
       "var outputEl = gd.closest('.output');\n",
       "if (outputEl) {{\n",
       "    x.observe(outputEl, {childList: true});\n",
       "}}\n",
       "\n",
       "                        })                };                });            </script>        </div>"
      ]
     },
     "metadata": {},
     "output_type": "display_data"
    }
   ],
   "execution_count": 91
  },
  {
   "metadata": {},
   "cell_type": "markdown",
   "source": "",
   "id": "163280c19cf8d349"
  },
  {
   "metadata": {},
   "cell_type": "markdown",
   "source": "",
   "id": "e2db4cd2adfe87e5"
  },
  {
   "cell_type": "code",
   "id": "913efb1030030400",
   "metadata": {
    "ExecuteTime": {
     "end_time": "2024-09-23T18:48:52.672009Z",
     "start_time": "2024-09-23T18:48:51.003074Z"
    }
   },
   "source": [
    "# BASE_URL = 'https://www.alphavantage.co/query?function=TIME_SERIES_INTRADAY&symbol=IBM&interval=5min&apikey=HQW7799XH2IF0VB3'\n",
    "# r = requests.get(url)\n",
    "# \n",
    "# # Define the parameters\n",
    "# params = {\n",
    "#     'function': 'TIME_SERIES_INTRADAY',\n",
    "#     'symbol': 'AAPL',  # Apple stock symbol\n",
    "#     'interval': '60min',  # Interval options: 1min, 5min, 15min, 30min, 60min\n",
    "#     'adjusted': 'true',\n",
    "#     'extended_hours': 'true',\n",
    "#     'month': '2015-08',  # Month for August 2015\n",
    "#     'datatype': 'json',\n",
    "#     'apikey': 'HQW7799XH2IF0VB3'\n",
    "# }\n",
    "# \n",
    "# # Make the API request for August 2015 data\n",
    "# response_aug = requests.get(BASE_URL, params=params)\n",
    "# \n",
    "# # Convert the response JSON to a dictionary\n",
    "# data_aug = response_aug.json()\n",
    "# \n",
    "# # Extract the time series data\n",
    "# time_series_aug = data_aug.get('Time Series (60min)', {})\n",
    "# \n",
    "# \n",
    "# # Create a DataFrame from the combined data\n",
    "# df = pd.DataFrame.from_dict(time_series_aug, orient='index')\n",
    "# \n",
    "# # Convert index to datetime\n",
    "# df.index = pd.to_datetime(df.index)\n",
    "# \n",
    "# # Filter data between the specified date range\n",
    "# \n",
    "# # Rename columns for readability\n",
    "# df.columns = ['Open', 'High', 'Low', 'Close', 'Volume']\n",
    "# \n",
    "# # Convert columns to appropriate data types\n",
    "# df_filtered = df.apply(pd.to_numeric)\n",
    "# \n",
    "# # Display the filtered DataFrame\n",
    "# df_filtered\n"
   ],
   "outputs": [
    {
     "name": "stdout",
     "output_type": "stream",
     "text": [
      "                        Open     High      Low    Close    Volume\n",
      "2015-08-31 19:00:00  25.4009  25.4054  25.3400  25.3400    111324\n",
      "2015-08-31 18:00:00  25.4348  25.4393  25.3987  25.4054     62664\n",
      "2015-08-31 17:00:00  25.4303  25.4528  25.4235  25.4416     93948\n",
      "2015-08-31 16:00:00  25.4551  25.4732  25.4106  25.4167  16033804\n",
      "2015-08-31 15:00:00  25.3944  25.5804  25.3896  25.4438  37859220\n",
      "...                      ...      ...      ...      ...       ...\n",
      "2015-08-24 04:00:00  23.8026  23.8026  22.8003  22.8726    631100\n",
      "2015-08-24 01:00:00  22.8680  22.8680  22.8680  22.8680       504\n",
      "2015-08-21 19:00:00  23.9381  23.9449  23.8726  23.9065    326776\n",
      "2015-08-21 18:00:00  23.9426  23.9742  23.9245  23.9403    253376\n",
      "2015-08-21 17:00:00  23.9855  24.0306  23.8749  23.9510   3332596\n",
      "\n",
      "[100 rows x 5 columns]\n"
     ]
    }
   ],
   "execution_count": 96
  },
  {
   "cell_type": "code",
   "execution_count": null,
   "id": "f86fecfe8b038d25",
   "metadata": {},
   "outputs": [],
   "source": []
  }
 ],
 "metadata": {
  "kernelspec": {
   "display_name": "Python 3 (ipykernel)",
   "language": "python",
   "name": "python3"
  },
  "language_info": {
   "codemirror_mode": {
    "name": "ipython",
    "version": 3
   },
   "file_extension": ".py",
   "mimetype": "text/x-python",
   "name": "python",
   "nbconvert_exporter": "python",
   "pygments_lexer": "ipython3",
   "version": "3.12.2"
  }
 },
 "nbformat": 4,
 "nbformat_minor": 5
}
